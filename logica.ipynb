{
 "cells": [
  {
   "cell_type": "markdown",
   "id": "d0ef6f4b",
   "metadata": {},
   "source": [
    "# Logica de programação \n",
    "---\n",
    "## Condicionais "
   ]
  },
  {
   "cell_type": "code",
   "execution_count": 5,
   "id": "48674a2d",
   "metadata": {},
   "outputs": [
    {
     "name": "stdout",
     "output_type": "stream",
     "text": [
      "voce e maior de idade\n"
     ]
    }
   ],
   "source": [
    "idade = 25\n",
    "if idade >=18:\n",
    "    print('voce e maior de idade')\n",
    "else:\n",
    "    print('voce e menor de idade')\n"
   ]
  },
  {
   "cell_type": "code",
   "execution_count": null,
   "id": "b0c48045",
   "metadata": {},
   "outputs": [],
   "source": [
    "# Condiçao encadeada \n",
    "\n",
    "idade = 25\n",
    "\n",
    "if idade <0:\n",
    "   print('idade invalida')\n",
    "elif idade >=18:\n",
    "   print('maior de idade')\n",
    "else:\n",
    "    print('voce e menor de idade')\n"
   ]
  },
  {
   "cell_type": "code",
   "execution_count": null,
   "id": "05145c99",
   "metadata": {},
   "outputs": [],
   "source": [
    "# Maiores de idade podem assistir o filme \n",
    "# menores de idade com 16 ou mais podem "
   ]
  },
  {
   "cell_type": "code",
   "execution_count": null,
   "id": "d397564e",
   "metadata": {},
   "outputs": [],
   "source": [
    "# WHILE (ENQUANTO)\n",
    "resposta = ''\n",
    "\n",
    "while resposta != 'sim':\n",
    "    resposta = input('Já chegou?')"
   ]
  },
  {
   "cell_type": "code",
   "execution_count": null,
   "id": "52f20724",
   "metadata": {},
   "outputs": [],
   "source": [
    "# laço de repetiçao infinito\n",
    "\n",
    "while true \n",
    "print ('luciano')"
   ]
  },
  {
   "cell_type": "code",
   "execution_count": null,
   "id": "dafc42fd",
   "metadata": {},
   "outputs": [],
   "source": [
    "# Dicionarios \n",
    "\n",
    "pessoa = {\n",
    "    'nome': Kassandra \n",
    "    'idade':24,\n",
    "    'cpf': 545.554.554-25,\n",
    "    'profissao': 'Gerente de caixa'\n",
    "    \n",
    "}"
   ]
  }
 ],
 "metadata": {
  "kernelspec": {
   "display_name": ".venv (3.12.10)",
   "language": "python",
   "name": "python3"
  },
  "language_info": {
   "codemirror_mode": {
    "name": "ipython",
    "version": 3
   },
   "file_extension": ".py",
   "mimetype": "text/x-python",
   "name": "python",
   "nbconvert_exporter": "python",
   "pygments_lexer": "ipython3",
   "version": "3.12.10"
  }
 },
 "nbformat": 4,
 "nbformat_minor": 5
}
